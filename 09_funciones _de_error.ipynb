{
 "cells": [
  {
   "cell_type": "markdown",
   "metadata": {},
   "source": [
    "[![imagenes](imagenes/pythonista.png)](https://pythonista.io)"
   ]
  },
  {
   "cell_type": "markdown",
   "metadata": {},
   "source": [
    "# El método *Flask.errorhandler()* para gestión de errores."
   ]
  },
  {
   "cell_type": "markdown",
   "metadata": {},
   "source": [
    "Es posible crear una función de vista capaz de capturar y gestionar excepciones de Python así como mensajes de estado del sistema mediante el método *Flask.errorhandler()*.\n",
    "\n",
    "Este método se utiliza de forma similar al método *Flask.route()* al aplicarlo mediante un decorador a una función de vista, en la que el argumento del método corresponde al número de mensaje de estado o al tipo de excepción.\n",
    "\n",
    "La funcion de vista debe definirse incluyendo el parámetro *error*.\n",
    "\n",
    "```\n",
    "@<objeto tipo Flask>.errorhandler(<tipo de error>)\n",
    "def <función de vista>(error):\n",
    "    ...\n",
    "    ...\n",
    "```"
   ]
  },
  {
   "cell_type": "markdown",
   "metadata": {},
   "source": [
    "**Ejemplo:**\n",
    "\n",
    "Se creará una página con un mensaje HTML en caso de que ocurra un error 404.\n",
    "\n",
    "El servidor estará disponible desde http://localhost:5000 y cualquier ruta distinta a la raíz desplegará la página con el mensaje.\n",
    "\n",
    "**Advertencia:** Una vez ejecutada la siguiente celda, es necesario interrumpir el kernel de Jupyter para poder ejecutar el resto de las celdas de la notebook."
   ]
  },
  {
   "cell_type": "code",
   "execution_count": null,
   "metadata": {},
   "outputs": [],
   "source": [
    "from flask import Flask\n",
    "app = Flask(__name__)\n",
    "\n",
    "@app.route('/')\n",
    "def raiz():\n",
    "    return '<h1>Hola, Mundo.</h1>'\n",
    "\n",
    "@app.errorhandler(404)\n",
    "def no_encontrado(error):\n",
    "    return '<h1>Archivo no encontrado.</h1>', 404\n",
    "\n",
    "#Si no se define el parámetro host, flask sólo será visible desde localhost\n",
    "# app.run(host='localhost')\n",
    "app.run('0.0.0.0')"
   ]
  },
  {
   "cell_type": "markdown",
   "metadata": {},
   "source": [
    "<p style=\"text-align: center\"><a rel=\"license\" href=\"http://creativecommons.org/licenses/by/4.0/\"><img alt=\"Licencia Creative Commons\" style=\"border-width:0\" src=\"https://i.creativecommons.org/l/by/4.0/80x15.png\" /></a><br />Esta obra está bajo una <a rel=\"license\" href=\"http://creativecommons.org/licenses/by/4.0/\">Licencia Creative Commons Atribución 4.0 Internacional</a>.</p>\n",
    "<p style=\"text-align: center\">&copy; José Luis Chiquete Valdivieso. 2018.</p>"
   ]
  }
 ],
 "metadata": {
  "kernelspec": {
   "display_name": "Python 3",
   "language": "python",
   "name": "python3"
  },
  "language_info": {
   "codemirror_mode": {
    "name": "ipython",
    "version": 3
   },
   "file_extension": ".py",
   "mimetype": "text/x-python",
   "name": "python",
   "nbconvert_exporter": "python",
   "pygments_lexer": "ipython3",
   "version": "3.6.3"
  }
 },
 "nbformat": 4,
 "nbformat_minor": 2
}
