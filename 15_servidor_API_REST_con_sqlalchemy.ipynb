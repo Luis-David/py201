{
 "cells": [
  {
   "cell_type": "markdown",
   "metadata": {},
   "source": [
    "[![imagenes](imagenes/pythonista.png)](https://pythonista.io)"
   ]
  },
  {
   "cell_type": "code",
   "execution_count": null,
   "metadata": {},
   "outputs": [],
   "source": [
    "from flask import Flask, jsonify, request, abort\n",
    "from data import campos, orden\n",
    "from json import loads\n",
    "from flask_sqlalchemy import SQLAlchemy"
   ]
  },
  {
   "cell_type": "code",
   "execution_count": null,
   "metadata": {},
   "outputs": [],
   "source": [
    "app = Flask(__name__)\n",
    "app.config['SQLALCHEMY_DATABASE_URI'] = 'sqlite:///data/alumnos.db'\n",
    "app.config['SQLALCHEMY_TRACK_MODIFICATIONS'] = False\n",
    "db = SQLAlchemy(app)"
   ]
  },
  {
   "cell_type": "code",
   "execution_count": null,
   "metadata": {},
   "outputs": [],
   "source": [
    "class Alumno(db.Model):\n",
    "    __tablename__ = 'alumnos'\n",
    "    cuenta = db.Column(db.Integer, primary_key=True)\n",
    "    nombre = db.Column(db.String(50))\n",
    "    primer_apellido = db.Column(db.String(50))\n",
    "    segundo_apellido = db.Column(db.String(50))\n",
    "    carrera = db.Column(db.String(50))\n",
    "    semestre = db.Column(db.Integer)\n",
    "    promedio = db.Column(db.Float)\n",
    "    al_corriente = db.Column(db.Boolean)"
   ]
  },
  {
   "cell_type": "code",
   "execution_count": null,
   "metadata": {},
   "outputs": [],
   "source": [
    "def es_tipo(dato, tipo):\n",
    "    if tipo == str:\n",
    "        return True\n",
    "    else:\n",
    "        try: \n",
    "            return tipo(dato) is dato\n",
    "        except:\n",
    "            return False\n",
    "        \n",
    "def reglas(dato, campo):\n",
    "    from data import carreras\n",
    "    if campo == \"Carrera\" and dato not in carreras:\n",
    "        return False\n",
    "    elif campo == \"Semestre\" and dato < 1:\n",
    "        return False\n",
    "    elif campo == \"Promedio\" and (dato < 0 or dato > 10):\n",
    "        return False\n",
    "    elif (campo in (\"Nombre\", \"Primer Apellido\") and (dato == \"\")):\n",
    "        return False\n",
    "    else:\n",
    "        return True           \n",
    "    \n",
    "def valida(dato, campo):\n",
    "    return es_tipo(dato, campos[campo][0]) and reglas(dato, campo)"
   ]
  },
  {
   "cell_type": "code",
   "execution_count": null,
   "metadata": {},
   "outputs": [],
   "source": [
    "def convierte(cuenta, alumno, orden):\n",
    "    respuesta = {'cuenta': cuenta}\n",
    "    for campo in orden:\n",
    "        respuesta[campo] = getattr(alumno, campo.lower().replace(' ', '_'))\n",
    "    return respuesta"
   ]
  },
  {
   "cell_type": "code",
   "execution_count": null,
   "metadata": {},
   "outputs": [],
   "source": [
    "def recurso_completo(cuenta, peticion):\n",
    "    try:\n",
    "        candidato = Alumno(cuenta=int(cuenta))\n",
    "        peticion = loads(peticion)\n",
    "        if (set(peticion)).issubset(set(orden)):                    \n",
    "            for campo in orden:\n",
    "                if not campos[campo][1] and campo not in peticion:\n",
    "                    setattr(candidato, campo.lower().replace(' ', '_'), '')\n",
    "                elif valida(peticion[campo], campo):\n",
    "                    setattr(candidato, campo.lower().replace(' ', '_'), peticion[campo])    \n",
    "                else:\n",
    "                    abort(400)\n",
    "        else:\n",
    "            abort(400)\n",
    "    except:\n",
    "        abort(400)\n",
    "    db.session.add(candidato)\n",
    "    db.session.commit()                        \n",
    "    return jsonify(convierte(cuenta, candidato, orden))"
   ]
  },
  {
   "cell_type": "code",
   "execution_count": 14,
   "metadata": {},
   "outputs": [],
   "source": [
    "@app.route('/api/<cuenta>', methods=['GET', 'POST', 'PUT', 'PATCH', 'DELETE'])\n",
    "def api(cuenta):\n",
    "    \n",
    "    if request.method == 'GET':\n",
    "        alumno = Alumno.query.filter_by(cuenta=cuenta).first()\n",
    "        if alumno == None:\n",
    "            abort(404)\n",
    "        else:\n",
    "            return jsonify(convierte(cuenta, alumno, orden))\n",
    "            \n",
    "            \n",
    "    if request.method == 'DELETE':\n",
    "        alumno = Alumno.query.filter_by(cuenta=cuenta).first()\n",
    "        if alumno == None:\n",
    "            abort(404)\n",
    "        else:\n",
    "            db.session.delete(alumno)\n",
    "            db.session.commit()\n",
    "            return jsonify(convierte(cuenta, alumno, orden))\n",
    "        \n",
    "        \n",
    "    if request.method == 'POST':\n",
    "        alumno = Alumno.query.filter_by(cuenta=cuenta).first()\n",
    "        if alumno == None:\n",
    "            return recurso_completo(cuenta, request.data)\n",
    "        else:\n",
    "            abort(409)\n",
    "            \n",
    "            \n",
    "    if request.method == 'PUT':\n",
    "        alumno = Alumno.query.filter_by(cuenta=cuenta).first()\n",
    "        if alumno == None:\n",
    "            abort(404)\n",
    "        else:\n",
    "            db.session.delete(alumno)\n",
    "            db.session.commit()\n",
    "            return recurso_completo(cuenta, request.data)\n",
    "\n",
    "    if request.method == 'PATCH':               \n",
    "        alumno = Alumno.query.filter_by(cuenta=cuenta).first()\n",
    "        if alumno == None:\n",
    "            abort(404)\n",
    "        else:\n",
    "            try:\n",
    "                peticion = loads(request.data)\n",
    "                if (set(peticion)).issubset(set(orden)):\n",
    "                    for campo in peticion:\n",
    "                        dato = peticion[campo]\n",
    "                        if valida(dato, campo):\n",
    "                            setattr(alumno, campo.lower().replace(' ', '_'), dato)\n",
    "                        else:\n",
    "                            abort(400)\n",
    "                else:\n",
    "                    abort(400)\n",
    "            except:\n",
    "                abort(400)\n",
    "            db.session.add(alumno)\n",
    "            db.session.commit()                        \n",
    "            return jsonify(convierte(cuenta, alumno, orden))\n",
    "app.run('0.0.0.0')"
   ]
  },
  {
   "cell_type": "code",
   "execution_count": 16,
   "metadata": {},
   "outputs": [
    {
     "name": "stdout",
     "output_type": "stream",
     "text": [
      "The sql extension is already loaded. To reload it, use:\n",
      "  %reload_ext sql\n"
     ]
    }
   ],
   "source": [
    "%load_ext sql"
   ]
  },
  {
   "cell_type": "code",
   "execution_count": 17,
   "metadata": {},
   "outputs": [
    {
     "data": {
      "text/plain": [
       "'Connected: @data/alumnos.db'"
      ]
     },
     "execution_count": 17,
     "metadata": {},
     "output_type": "execute_result"
    }
   ],
   "source": [
    "%sql sqlite:///data/alumnos.db"
   ]
  },
  {
   "cell_type": "code",
   "execution_count": 18,
   "metadata": {},
   "outputs": [
    {
     "name": "stdout",
     "output_type": "stream",
     "text": [
      " * sqlite:///data/alumnos.db\n",
      "Done.\n"
     ]
    },
    {
     "data": {
      "text/html": [
       "<table>\n",
       "    <tr>\n",
       "        <th>cuenta</th>\n",
       "        <th>nombre</th>\n",
       "        <th>primer_apellido</th>\n",
       "        <th>segundo_apellido</th>\n",
       "        <th>carrera</th>\n",
       "        <th>semestre</th>\n",
       "        <th>promedio</th>\n",
       "        <th>al_corriente</th>\n",
       "    </tr>\n",
       "    <tr>\n",
       "        <td>1231221</td>\n",
       "        <td>Pedro</td>\n",
       "        <td>Solis</td>\n",
       "        <td>Cabañas</td>\n",
       "        <td>Arquitectura</td>\n",
       "        <td>3</td>\n",
       "        <td>7.8</td>\n",
       "        <td>0</td>\n",
       "    </tr>\n",
       "    <tr>\n",
       "        <td>1231222</td>\n",
       "        <td>Yolanda</td>\n",
       "        <td>Jiménez</td>\n",
       "        <td>Lerdo</td>\n",
       "        <td>Actuaría</td>\n",
       "        <td>3</td>\n",
       "        <td>6.0</td>\n",
       "        <td>0</td>\n",
       "    </tr>\n",
       "    <tr>\n",
       "        <td>1231223</td>\n",
       "        <td>Juan</td>\n",
       "        <td>Ramos</td>\n",
       "        <td>Breña</td>\n",
       "        <td>Sistemas</td>\n",
       "        <td>9</td>\n",
       "        <td>8.6</td>\n",
       "        <td>1</td>\n",
       "    </tr>\n",
       "    <tr>\n",
       "        <td>1231224</td>\n",
       "        <td>Mayra Jimena</td>\n",
       "        <td>Cervantes</td>\n",
       "        <td>Lisama</td>\n",
       "        <td>Derecho</td>\n",
       "        <td>12</td>\n",
       "        <td>9.2</td>\n",
       "        <td>1</td>\n",
       "    </tr>\n",
       "</table>"
      ],
      "text/plain": [
       "[(1231221, 'Pedro', 'Solis', 'Cabañas', 'Arquitectura', 3, 7.8, 0),\n",
       " (1231222, 'Yolanda', 'Jiménez', 'Lerdo', 'Actuaría', 3, 6.0, 0),\n",
       " (1231223, 'Juan', 'Ramos', 'Breña', 'Sistemas', 9, 8.6, 1),\n",
       " (1231224, 'Mayra Jimena', 'Cervantes', 'Lisama', 'Derecho', 12, 9.2, 1)]"
      ]
     },
     "execution_count": 18,
     "metadata": {},
     "output_type": "execute_result"
    }
   ],
   "source": [
    "%%sql \n",
    "select * from alumnos"
   ]
  },
  {
   "cell_type": "markdown",
   "metadata": {},
   "source": [
    "<p style=\"text-align: center\"><a rel=\"license\" href=\"http://creativecommons.org/licenses/by/4.0/\"><img alt=\"Licencia Creative Commons\" style=\"border-width:0\" src=\"https://i.creativecommons.org/l/by/4.0/80x15.png\" /></a><br />Esta obra está bajo una <a rel=\"license\" href=\"http://creativecommons.org/licenses/by/4.0/\">Licencia Creative Commons Atribución 4.0 Internacional</a>.</p>\n",
    "<p style=\"text-align: center\">&copy; José Luis Chiquete Valdivieso. 2018.</p>"
   ]
  }
 ],
 "metadata": {
  "kernelspec": {
   "display_name": "Python 3",
   "language": "python",
   "name": "python3"
  },
  "language_info": {
   "codemirror_mode": {
    "name": "ipython",
    "version": 3
   },
   "file_extension": ".py",
   "mimetype": "text/x-python",
   "name": "python",
   "nbconvert_exporter": "python",
   "pygments_lexer": "ipython3",
   "version": "3.6.4"
  }
 },
 "nbformat": 4,
 "nbformat_minor": 2
}
