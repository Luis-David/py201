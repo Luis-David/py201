{
 "cells": [
  {
   "cell_type": "markdown",
   "metadata": {},
   "source": [
    "[![imagenes](imagenes/pythonista.png)](https://pythonista.io)"
   ]
  },
  {
   "cell_type": "code",
   "execution_count": null,
   "metadata": {
    "scrolled": true
   },
   "outputs": [],
   "source": [
    "!pip install flask-bootstrap"
   ]
  },
  {
   "cell_type": "code",
   "execution_count": null,
   "metadata": {},
   "outputs": [],
   "source": []
  },
  {
   "cell_type": "code",
   "execution_count": null,
   "metadata": {},
   "outputs": [
    {
     "name": "stderr",
     "output_type": "stream",
     "text": [
      " * Running on http://0.0.0.0:5000/ (Press CTRL+C to quit)\n",
      "10.0.2.2 - - [27/Apr/2018 03:36:40] \"GET / HTTP/1.1\" 200 -\n",
      "10.0.2.2 - - [27/Apr/2018 03:36:46] \"GET /jk HTTP/1.1\" 200 -\n"
     ]
    }
   ],
   "source": [
    "from flask import Flask, render_template\n",
    "from flask_bootstrap import Bootstrap\n",
    "\n",
    "app = Flask(__name__)\n",
    "Bootstrap(app)\n",
    "\n",
    "@app.route('/')\n",
    "def index():    \n",
    "    return render_template('bootstrap-base.html')\n",
    "#Si no se define el parámetro host, flask sólo será visible desde localhost\n",
    "# app.run(host='localhost')\n",
    "\n",
    "@app.errorhandler(404)\n",
    "def not_found(error):\n",
    "    return 'no hubo'\n",
    "\n",
    "    \n",
    "    \n",
    "    \n",
    "app.run('0.0.0.0')"
   ]
  },
  {
   "cell_type": "code",
   "execution_count": 6,
   "metadata": {},
   "outputs": [],
   "source": [
    "from flask import Flask"
   ]
  },
  {
   "cell_type": "code",
   "execution_count": 8,
   "metadata": {},
   "outputs": [
    {
     "name": "stdout",
     "output_type": "stream",
     "text": [
      "Help on function errorhandler in module flask.app:\n",
      "\n",
      "errorhandler(self, code_or_exception)\n",
      "    A decorator that is used to register a function given an\n",
      "    error code.  Example::\n",
      "    \n",
      "        @app.errorhandler(404)\n",
      "        def page_not_found(error):\n",
      "            return 'This page does not exist', 404\n",
      "    \n",
      "    You can also register handlers for arbitrary exceptions::\n",
      "    \n",
      "        @app.errorhandler(DatabaseError)\n",
      "        def special_exception_handler(error):\n",
      "            return 'Database connection failed', 500\n",
      "    \n",
      "    You can also register a function as error handler without using\n",
      "    the :meth:`errorhandler` decorator.  The following example is\n",
      "    equivalent to the one above::\n",
      "    \n",
      "        def page_not_found(error):\n",
      "            return 'This page does not exist', 404\n",
      "        app.error_handler_spec[None][404] = page_not_found\n",
      "    \n",
      "    Setting error handlers via assignments to :attr:`error_handler_spec`\n",
      "    however is discouraged as it requires fiddling with nested dictionaries\n",
      "    and the special case for arbitrary exception types.\n",
      "    \n",
      "    The first ``None`` refers to the active blueprint.  If the error\n",
      "    handler should be application wide ``None`` shall be used.\n",
      "    \n",
      "    .. versionadded:: 0.7\n",
      "        Use :meth:`register_error_handler` instead of modifying\n",
      "        :attr:`error_handler_spec` directly, for application wide error\n",
      "        handlers.\n",
      "    \n",
      "    .. versionadded:: 0.7\n",
      "       One can now additionally also register custom exception types\n",
      "       that do not necessarily have to be a subclass of the\n",
      "       :class:`~werkzeug.exceptions.HTTPException` class.\n",
      "    \n",
      "    :param code_or_exception: the code as integer for the handler, or\n",
      "                              an arbitrary exception\n",
      "\n"
     ]
    }
   ],
   "source": [
    "help(Flask.errorhandler)"
   ]
  },
  {
   "cell_type": "markdown",
   "metadata": {},
   "source": [
    "<p style=\"text-align: center\"><a rel=\"license\" href=\"http://creativecommons.org/licenses/by/4.0/\"><img alt=\"Licencia Creative Commons\" style=\"border-width:0\" src=\"https://i.creativecommons.org/l/by/4.0/80x15.png\" /></a><br />Esta obra está bajo una <a rel=\"license\" href=\"http://creativecommons.org/licenses/by/4.0/\">Licencia Creative Commons Atribución 4.0 Internacional</a>.</p>\n",
    "<p style=\"text-align: center\">&copy; José Luis Chiquete Valdivieso. 2018.</p>"
   ]
  }
 ],
 "metadata": {
  "kernelspec": {
   "display_name": "Python 3",
   "language": "python",
   "name": "python3"
  },
  "language_info": {
   "codemirror_mode": {
    "name": "ipython",
    "version": 3
   },
   "file_extension": ".py",
   "mimetype": "text/x-python",
   "name": "python",
   "nbconvert_exporter": "python",
   "pygments_lexer": "ipython3",
   "version": "3.6.4"
  }
 },
 "nbformat": 4,
 "nbformat_minor": 2
}
