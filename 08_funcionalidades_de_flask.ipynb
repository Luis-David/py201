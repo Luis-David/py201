{
 "cells": [
  {
   "cell_type": "markdown",
   "metadata": {},
   "source": [
    "[![imagenes](imagenes/pythonista.png)](https://pythonista.io)"
   ]
  },
  {
   "cell_type": "markdown",
   "metadata": {},
   "source": [
    "# Algunas funciones útiles de *flask*.\n",
    "\n",
    "El paquete flask incluye varios componentes que facilitan el desarrollo y control de servicios web, tanto del lado del cliente como del servidor.\n",
    "\n",
    "Existen módulos especializados en el envío de recursos tales como archivos y flujos de datos, así como de presentación de contenido tradicional mediante páginas en HTML.\n",
    "\n",
    "En este capítulo se explorará la funcionalidad de algunos de estos objetos."
   ]
  },
  {
   "cell_type": "markdown",
   "metadata": {},
   "source": [
    "## La función *abort()*.\n",
    "\n",
    "Esta función detiene una sesión enviando el código de estado de HTTP ingresado como primer argumento. También es posible añadir un mensaje como segundo argumento.\n",
    "\n",
    "``` python\n",
    "abort(<número de mensaje de estado>, <objeto str>)\n",
    "```"
   ]
  },
  {
   "cell_type": "markdown",
   "metadata": {},
   "source": [
    "**Ejemplo:**\n",
    " La función *usuario()* desplegará un mensaje en HTML si la cadena de caracteres ingresada en ```http://localhost:5000/<cadena de caracteres>``` es exactamente un elemento del objeto tipo *list* llamado *nombres*. En caso contrario emitirá un mensaje de estado *404*.\n",
    " * La URL http://localhost:5000/Luis desplegará la página.\n",
    " * La URL http://localhost:5000/luis desplegará un error 404.\n",
    " \n",
    " **Advertencia:** Una vez ejecutada la siguiente celda, es necesario interrumpir el kernel de Jupyter para poder ejecutar el resto de las celdas de la notebook."
   ]
  },
  {
   "cell_type": "code",
   "execution_count": null,
   "metadata": {},
   "outputs": [],
   "source": [
    "from flask import abort, Flask\n",
    "app = Flask(__name__)\n",
    "nombres = ['Hugo', 'Paco', 'Luis']\n",
    "\n",
    "    \n",
    "@app.route('/<nombre>')\n",
    "def usuario(nombre):\n",
    "    if nombre in nombres:\n",
    "        return '<h1>Hola, {}.</h1>'.format(nombre)\n",
    "    else:\n",
    "        abort(404, 'No encontrado.')\n",
    "\n",
    "#Si no se define el parámetro host, flask sólo será visible desde localhost\n",
    "# app.run(host='localhost')\n",
    "app.run('0.0.0.0')"
   ]
  },
  {
   "cell_type": "markdown",
   "metadata": {},
   "source": [
    "## Definición de URL a partir de una función de vista.\n",
    "\n",
    "### La función *url_for()*.\n",
    "\n",
    "La función *url_for()* permite utilizar una función de vista como referencia en vez de su URL correspondiente con la siguiente sintaxis.\n",
    "\n",
    "``` python\n",
    "url_for(<nombre de la función>, values=<argumentos de la función>)\n",
    "```\n",
    "\n",
    "Dicha función cuenta además con algunos otros parámetros adicionales para definir métodos y referencias para la URL.\n",
    "\n",
    "### El uso de la función *url_for()* para archivos estáticos.\n",
    "\n",
    "Flask está configurado para utiliza el directorio [*static*](static) para acceder a archivos estáticos de tal forma que la función *url_for()* permite generar URL a archivos estáticos con la siguiente sintaxis:\n",
    "\n",
    "```\n",
    "url_for('static', filename='<nombre del archivo>')\n",
    "```"
   ]
  },
  {
   "cell_type": "markdown",
   "metadata": {},
   "source": [
    "**Ejemplo:**\n",
    "\n",
    "Se correrá una aplicación con dos funciones de vista.\n",
    "* La función de vista *index()* apunta http://localhost:5000.\n",
    "* La función de vista *usuario()* es dinámica para ```http://localhost:5000/<cadena de caracteres>``` despliega código HTML que utiliza a la función *url_for()* para la función *index()* y para un archivo estático.\n",
    "\n",
    "La URL http://localhost:5000/Juan ejemplifica el uso de la función *usuario()*.\n",
    "\n",
    "**Advertencia:** Una vez ejecutada la siguiente celda, es necesario interrumpir el kernel de Jupyter para poder ejecutar el resto de las celdas de la notebook."
   ]
  },
  {
   "cell_type": "code",
   "execution_count": null,
   "metadata": {},
   "outputs": [],
   "source": [
    "from flask import url_for, Flask\n",
    "\n",
    "app = Flask(__name__)\n",
    "\n",
    "@app.route('/')\n",
    "def index():\n",
    "    return '<h1>Este es el inicio.</h1>' \n",
    "    \n",
    "@app.route('/<nombre>')\n",
    "def usuario(nombre):\n",
    "    return '<h1>Hola, {}.</h1>\\\n",
    "    <ul>\\\n",
    "    <li> Regresar al <a href={}>inicio.</a></li>\\\n",
    "    <li> Ver la <a href={}>imagen.</a></li>\\\n",
    "    </ul>'.format(nombre, url_for('index'), url_for('static', filename='pythonista.png'))\n",
    "\n",
    "#Si no se define el parámetro host, flask sólo será visible desde localhost\n",
    "# app.run(host='localhost')\n",
    "app.run('0.0.0.0')"
   ]
  },
  {
   "cell_type": "markdown",
   "metadata": {},
   "source": [
    "## Envío de mensajes.\n",
    "\n",
    "Los siguientes componentes del paquete *flask* permiten interactuar con el cliente mediante envío de mensajes y redireccionamiento del navegador a URL específicos. \n",
    "\n",
    "### La función *flash()*.\n",
    "\n",
    "Es posible enviar un mensaje al contexto de petición de una sesión activa mediante la función flash con la siguiente sintaxis:\n",
    "\n",
    "``` python\n",
    "flash (<objeto str>, category = <objeto str>)\n",
    "```\n",
    "Con esta función se envía un mensaje al cliente después de una petición para ser recibido en la siguiente petición. \n",
    "\n",
    "De igual manera y de forma opcional es posible enviar un segundo mensaje, indicando la naturaleza del mensaje principal mediante el parámetro *category*. \n",
    "\n",
    "Aún cuando se puede enviar cualquier cadena de caracteres para el parámetro *category*, se recomiendan las siguientes:\n",
    "\n",
    "* *'message'*\n",
    "* *'warning'*\n",
    "* *'error'*\n",
    "* *'info'*\n",
    "\n",
    "### La función  *get_flashed_messages()*.\n",
    "\n",
    "La función *get_flashed_messages()* captura los mensajes enviados por *flash()*. \n",
    "\n",
    "Dicha función puede ser ejecutada desde una plantilla con laa siguiente sintaxis:\n",
    "\n",
    "``` python\n",
    "get_flashed_messages(with_categories=<objeto tipo bool>, category_filter=[lista de objetos str])\n",
    "```\n",
    "Si se utiliza la función *get_flashed_messages()* sin argumentos, ésta capturará sólo el mensaje principal en vista de que el parámetro  *with_categories* tiene un valor por defecto de _False_.\n",
    "\n",
    "El parámetro *category_filter* indicará a la función la categoría de los mensajes que deberá capturar. \n",
    "\n",
    "Si no se indica nada, se capturarán todos los mensajes."
   ]
  },
  {
   "cell_type": "markdown",
   "metadata": {},
   "source": [
    "\n",
    "### La función *redirect()*.\n",
    "\n",
    "Dicha función le indica al cliente que se redirija a una URL específica.\n",
    "\n",
    "``` python\n",
    "redirect('<URL>')\n",
    "```"
   ]
  },
  {
   "cell_type": "markdown",
   "metadata": {},
   "source": [
    "## Ejemplo de uso de *flash()*, *get_flashed_messages()* y *redirect()*.\n",
    "\n",
    "Se utilizará la aplicación del capítulo previo de captura de datos personales de un alumno y una vez que se ingresen los datos correctamente ocurrirá lo siguiente:\n",
    "* Se enviará un mensaje mediante la función *flash()* indicando que se ingresaron los datos correctamente.\n",
    "* Se recargará la URL correspondiente a la función de vista *altas()*.\n",
    "* Se desplegará el mensaje.\n",
    "\n",
    "La aplicación se desplegará desde http://localhost:5000/altas"
   ]
  },
  {
   "cell_type": "markdown",
   "metadata": {},
   "source": [
    "Se creó la plantilla [*templates/captura_alumno.html*](templates/captura_alumno.html) con el siguiente código.\n",
    "\n",
    "``` html\n",
    "<h1> Datos personales del alumno </h1>\n",
    "{% from \"_formhelpers.html\" import render_field %}\n",
    "<form method=\"POST\">\n",
    "    {{ form.hidden_tag() }}\n",
    "    {{ render_field(form.nombre) }}\n",
    "    {{ render_field(form.primer_apellido) }}\n",
    "    {{ render_field(form.segundo_apellido) }}\n",
    "    {{ render_field(form.carrera)}}\n",
    "    {{ render_field(form.semestre)}}\n",
    "    {{ render_field(form.promedio)}}\n",
    "    {{ render_field(form.alcorriente)}}\n",
    "    <p>\n",
    "    {{ form.enviar }}\n",
    "</form>\n",
    "{% with mensajes = get_flashed_messages() %}\n",
    "  {% if mensajes %}\n",
    "    <ul>\n",
    "    {% for mensaje in mensajes %}\n",
    "        <li><b>{{ mensaje }}</b></li>\n",
    "    {% endfor %}\n",
    "    </ul>\n",
    "  {% endif %}\n",
    "{% endwith %}\n",
    "```\n",
    "**Advertencia:** Una vez ejecutada la siguiente celda, es necesario interrumpir el kernel de Jupyter para poder ejecutar el resto de las celdas de la notebook."
   ]
  },
  {
   "cell_type": "code",
   "execution_count": null,
   "metadata": {
    "scrolled": false
   },
   "outputs": [],
   "source": [
    "from flask_wtf import FlaskForm\n",
    "from wtforms import StringField, SubmitField, BooleanField, SelectField\n",
    "from wtforms.validators import DataRequired, ValidationError\n",
    "from flask import Flask, render_template, flash, redirect, url_for, abort\n",
    "\n",
    "carreras = (('Derecho', 'Derecho'), ('Medicina', 'Medicina'), ('Sistemas', 'Sistemas'), ('Diseño', 'Diseño'))\n",
    "\n",
    "        \n",
    "class DatosEstudiante(FlaskForm):\n",
    "\n",
    "            \n",
    "    def valida_promedio(form, field):\n",
    "        try:\n",
    "            numero = float(field.data)\n",
    "        except:\n",
    "            raise ValidationError('Debe de ingresar un número')\n",
    "        if numero < 0 or numero > 10:\n",
    "            raise ValidationError('Debe de ingresar un número entre 0 y 10')        \n",
    "            \n",
    "            \n",
    "    nombre = StringField('Nombre', [DataRequired()], default = '')\n",
    "    primer_apellido = StringField('Primer apellido', [DataRequired()], default = '')\n",
    "    segundo_apellido = StringField('Segundo apellido', default = '')\n",
    "    carrera = SelectField('Carrera', [DataRequired()], choices = carreras)\n",
    "    semestre = SelectField('Semestre', [DataRequired()], choices = [(str(x), str(x)) for x in range(1, 50)])\n",
    "    promedio = StringField('Promedio', [DataRequired(), valida_promedio], default = '0')\n",
    "    alcorriente = BooleanField('Al corriente de pagos')\n",
    "    enviar = SubmitField('Enviar')\n",
    "    \n",
    "            \n",
    "app = Flask(__name__)\n",
    "app.config['SECRET_KEY']='Saludines'\n",
    "\n",
    "\n",
    "\n",
    "@app.route('/altas', methods=['GET', 'POST'])\n",
    "def altas():\n",
    "    bandera = True\n",
    "    forma = DatosEstudiante()\n",
    "    if  forma.validate_on_submit():\n",
    "        flash('Datos ingresados correctamente')\n",
    "        for campo in ['nombre', 'primer_apellido', 'segundo_apellido', 'carrera',\n",
    "                     'semestre', 'promedio', 'alcorriente']:\n",
    "            print(forma[campo].data) \n",
    "        return redirect(url_for('altas'))\n",
    "    return render_template('captura_alumno.html', form=forma)\n",
    "\n",
    "#Si no se define el parámetro host, flask sólo será visible desde localhost\n",
    "# app.run(host='localhost')\n",
    "app.run('0.0.0.0')"
   ]
  },
  {
   "cell_type": "markdown",
   "metadata": {},
   "source": [
    "<p style=\"text-align: center\"><a rel=\"license\" href=\"http://creativecommons.org/licenses/by/4.0/\"><img alt=\"Licencia Creative Commons\" style=\"border-width:0\" src=\"https://i.creativecommons.org/l/by/4.0/80x15.png\" /></a><br />Esta obra está bajo una <a rel=\"license\" href=\"http://creativecommons.org/licenses/by/4.0/\">Licencia Creative Commons Atribución 4.0 Internacional</a>.</p>\n",
    "<p style=\"text-align: center\">&copy; José Luis Chiquete Valdivieso. 2018.</p>"
   ]
  }
 ],
 "metadata": {
  "kernelspec": {
   "display_name": "Python 3",
   "language": "python",
   "name": "python3"
  },
  "language_info": {
   "codemirror_mode": {
    "name": "ipython",
    "version": 3
   },
   "file_extension": ".py",
   "mimetype": "text/x-python",
   "name": "python",
   "nbconvert_exporter": "python",
   "pygments_lexer": "ipython3",
   "version": "3.6.3"
  }
 },
 "nbformat": 4,
 "nbformat_minor": 2
}
