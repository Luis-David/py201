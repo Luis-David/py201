{
 "cells": [
  {
   "cell_type": "markdown",
   "metadata": {},
   "source": [
    "[![imagenes](imagenes/pythonista.png)](https://pythonista.io)"
   ]
  },
  {
   "cell_type": "markdown",
   "metadata": {},
   "source": [
    "# Control de acceso mediante usuario y contraseña."
   ]
  },
  {
   "cell_type": "markdown",
   "metadata": {},
   "source": [
    "## La extensión Flask-Security.\n",
    "\n",
    "Flask cuenta con varias extensiones enfocadas a garantizar la seguridad de los servicios web. Una de ellas es [Flask-Security](https://pythonhosted.org/Flask-Security/), la cual a su vez hace uso de las extensiones y módulos:\n",
    "\n",
    "* [Flask-Login](https://flask-login.readthedocs.io/en/latest/).\n",
    "* [Flask-Mail](https://pythonhosted.org/Flask-Mail/).\n",
    "* [Flask-Principal](https://pythonhosted.org/Flask-Principal/).\n",
    "* [Flask-WTF](https://flask-wtf.readthedocs.io/en/stable/).\n",
    "* [itsdangerous](https://pythonhosted.org/itsdangerous/).\n",
    "* [passlib](https://passlib.readthedocs.io/en/stable/).\n",
    "\n",
    "Es neceario además contar con un sistema de generación de *hash* como [bcrypt](https://pypi.org/project/bcrypt).\n",
    "\n",
    "Esta extensión controla el proceso de alta, registro e incluso recuperación por correo electrónico de usuarios, contraseñas y roles."
   ]
  },
  {
   "cell_type": "code",
   "execution_count": 1,
   "metadata": {
    "scrolled": true
   },
   "outputs": [
    {
     "name": "stdout",
     "output_type": "stream",
     "text": [
      "Collecting flask-security\n",
      "  Downloading https://files.pythonhosted.org/packages/88/47/4908a5040120768ff4fb2465c7eeafeb9239c27d2919bd67c4ccc1b43e14/Flask_Security-3.0.0-py2.py3-none-any.whl (68kB)\n",
      "\u001b[K    100% |████████████████████████████████| 71kB 771kB/s ta 0:00:011\n",
      "\u001b[?25hCollecting bcrypt\n",
      "  Downloading https://files.pythonhosted.org/packages/b8/09/905ec939994e2c49dcffff72f823802557f166b3815ea54c1db3671eed42/bcrypt-3.1.4-cp36-cp36m-manylinux1_x86_64.whl (54kB)\n",
      "\u001b[K    100% |████████████████████████████████| 61kB 956kB/s ta 0:00:01\n",
      "\u001b[?25hRequirement already satisfied: itsdangerous>=0.21 in /home/oi/pythonista/lib/python3.6/site-packages (from flask-security)\n",
      "Collecting Flask-BabelEx>=0.9.3 (from flask-security)\n",
      "  Downloading https://files.pythonhosted.org/packages/80/ad/cc2b0becd98050eed775ca85d6e5fa784547acff69f968183098df8a52b3/Flask-BabelEx-0.9.3.tar.gz (41kB)\n",
      "\u001b[K    100% |████████████████████████████████| 51kB 2.6MB/s ta 0:00:01\n",
      "\u001b[?25hCollecting Flask-Principal>=0.3.3 (from flask-security)\n",
      "  Downloading https://files.pythonhosted.org/packages/14/c7/2531aca6ab7baa3774fde2dfc9c9dd6d5a42576a1013a93701bfdc402fdd/Flask-Principal-0.4.0.tar.gz\n",
      "Collecting Flask-Login>=0.3.0 (from flask-security)\n",
      "  Downloading https://files.pythonhosted.org/packages/c1/ff/bd9a4d2d81bf0c07d9e53e8cd3d675c56553719bbefd372df69bf1b3c1e4/Flask-Login-0.4.1.tar.gz\n",
      "Collecting Flask-Mail>=0.7.3 (from flask-security)\n",
      "  Downloading https://files.pythonhosted.org/packages/05/2f/6a545452040c2556559779db87148d2a85e78a26f90326647b51dc5e81e9/Flask-Mail-0.9.1.tar.gz (45kB)\n",
      "\u001b[K    100% |████████████████████████████████| 51kB 4.7MB/s eta 0:00:01\n",
      "\u001b[?25hCollecting passlib>=1.7 (from flask-security)\n",
      "  Downloading https://files.pythonhosted.org/packages/ee/a7/d6d238d927df355d4e4e000670342ca4705a72f0bf694027cf67d9bcf5af/passlib-1.7.1-py2.py3-none-any.whl (498kB)\n",
      "\u001b[K    100% |████████████████████████████████| 501kB 666kB/s ta 0:00:01\n",
      "\u001b[?25hRequirement already satisfied: Flask>=0.11 in /home/oi/pythonista/lib/python3.6/site-packages (from flask-security)\n",
      "Requirement already satisfied: Flask-WTF>=0.13.1 in /home/oi/pythonista/lib/python3.6/site-packages (from flask-security)\n",
      "Collecting cffi>=1.1 (from bcrypt)\n",
      "  Downloading https://files.pythonhosted.org/packages/6d/c0/47db8f624f3e4e2f3f27be03a93379d1ba16a1450a7b1aacfa0366e2c0dd/cffi-1.11.5-cp36-cp36m-manylinux1_x86_64.whl (421kB)\n",
      "\u001b[K    100% |████████████████████████████████| 430kB 473kB/s ta 0:00:011\n",
      "\u001b[?25hRequirement already satisfied: six>=1.4.1 in /home/oi/pythonista/lib/python3.6/site-packages (from bcrypt)\n",
      "Collecting Babel>=1.0 (from Flask-BabelEx>=0.9.3->flask-security)\n",
      "  Downloading https://files.pythonhosted.org/packages/94/03/14e68ad12e771a79cf96792f7158d68a7b3d8c7b2badf39e9ef1f65b57d6/Babel-2.5.3-py2.py3-none-any.whl (6.8MB)\n",
      "\u001b[K    100% |████████████████████████████████| 6.8MB 115kB/s ta 0:00:011\n",
      "\u001b[?25hCollecting speaklater>=1.2 (from Flask-BabelEx>=0.9.3->flask-security)\n",
      "  Downloading https://files.pythonhosted.org/packages/11/92/5ae1effe0ccb8561c034a0111d53c8788660ddb7ed4992f0da1bb5c525e5/speaklater-1.3.tar.gz\n",
      "Requirement already satisfied: Jinja2>=2.5 in /home/oi/pythonista/lib/python3.6/site-packages (from Flask-BabelEx>=0.9.3->flask-security)\n",
      "Collecting blinker (from Flask-Principal>=0.3.3->flask-security)\n",
      "  Downloading https://files.pythonhosted.org/packages/1b/51/e2a9f3b757eb802f61dc1f2b09c8c99f6eb01cf06416c0671253536517b6/blinker-1.4.tar.gz (111kB)\n",
      "\u001b[K    100% |████████████████████████████████| 112kB 405kB/s ta 0:00:01\n",
      "\u001b[?25hRequirement already satisfied: click>=2.0 in /home/oi/pythonista/lib/python3.6/site-packages (from Flask>=0.11->flask-security)\n",
      "Requirement already satisfied: Werkzeug>=0.7 in /home/oi/pythonista/lib/python3.6/site-packages (from Flask>=0.11->flask-security)\n",
      "Requirement already satisfied: WTForms in /home/oi/pythonista/lib/python3.6/site-packages (from Flask-WTF>=0.13.1->flask-security)\n",
      "Collecting pycparser (from cffi>=1.1->bcrypt)\n",
      "  Downloading https://files.pythonhosted.org/packages/8c/2d/aad7f16146f4197a11f8e91fb81df177adcc2073d36a17b1491fd09df6ed/pycparser-2.18.tar.gz (245kB)\n",
      "\u001b[K    100% |████████████████████████████████| 256kB 1.2MB/s ta 0:00:01\n",
      "\u001b[?25hCollecting pytz>=0a (from Babel>=1.0->Flask-BabelEx>=0.9.3->flask-security)\n",
      "  Downloading https://files.pythonhosted.org/packages/dc/83/15f7833b70d3e067ca91467ca245bae0f6fe56ddc7451aa0dc5606b120f2/pytz-2018.4-py2.py3-none-any.whl (510kB)\n",
      "\u001b[K    100% |████████████████████████████████| 512kB 616kB/s ta 0:00:01\n",
      "\u001b[?25hRequirement already satisfied: MarkupSafe>=0.23 in /home/oi/pythonista/lib/python3.6/site-packages (from Jinja2>=2.5->Flask-BabelEx>=0.9.3->flask-security)\n",
      "Building wheels for collected packages: Flask-BabelEx, Flask-Principal, Flask-Login, Flask-Mail, speaklater, blinker, pycparser\n",
      "  Running setup.py bdist_wheel for Flask-BabelEx ... \u001b[?25ldone\n",
      "\u001b[?25h  Stored in directory: /home/oi/.cache/pip/wheels/55/9e/aa/70c7d757fe48a6635bf61d8fe9236a6ad572c562d1178fbc96\n",
      "  Running setup.py bdist_wheel for Flask-Principal ... \u001b[?25ldone\n",
      "\u001b[?25h  Stored in directory: /home/oi/.cache/pip/wheels/43/75/d8/9599063cf95ad0177c75a3bc625bf0a97139ac55c920eb634f\n",
      "  Running setup.py bdist_wheel for Flask-Login ... \u001b[?25ldone\n",
      "\u001b[?25h  Stored in directory: /home/oi/.cache/pip/wheels/39/10/74/d68194e28d5f7a83de5f66e5b2deff5ccbb424fe45e6b0e927\n",
      "  Running setup.py bdist_wheel for Flask-Mail ... \u001b[?25ldone\n",
      "\u001b[?25h  Stored in directory: /home/oi/.cache/pip/wheels/eb/aa/d9/34b8f2f9bce7d06a4d07fd46078770584d5504949ebfa286f5\n",
      "  Running setup.py bdist_wheel for speaklater ... \u001b[?25ldone\n",
      "\u001b[?25h  Stored in directory: /home/oi/.cache/pip/wheels/c4/f3/2d/57f871bb1786128515c7c5343fefe345e1df68f4b6317b897d\n",
      "  Running setup.py bdist_wheel for blinker ... \u001b[?25ldone\n",
      "\u001b[?25h  Stored in directory: /home/oi/.cache/pip/wheels/92/a0/00/8690a57883956a301d91cf4ec999cc0b258b01e3f548f86e89\n",
      "  Running setup.py bdist_wheel for pycparser ... \u001b[?25ldone\n",
      "\u001b[?25h  Stored in directory: /home/oi/.cache/pip/wheels/c0/a1/27/5ba234bd77ea5a290cbf6d675259ec52293193467a12ef1f46\n",
      "Successfully built Flask-BabelEx Flask-Principal Flask-Login Flask-Mail speaklater blinker pycparser\n",
      "Installing collected packages: pytz, Babel, speaklater, Flask-BabelEx, blinker, Flask-Principal, Flask-Login, Flask-Mail, passlib, flask-security, pycparser, cffi, bcrypt\n",
      "Successfully installed Babel-2.5.3 Flask-BabelEx-0.9.3 Flask-Login-0.4.1 Flask-Mail-0.9.1 Flask-Principal-0.4.0 bcrypt-3.1.4 blinker-1.4 cffi-1.11.5 flask-security-3.0.0 passlib-1.7.1 pycparser-2.18 pytz-2018.4 speaklater-1.3\n",
      "\u001b[33mYou are using pip version 9.0.3, however version 10.0.1 is available.\n",
      "You should consider upgrading via the 'pip install --upgrade pip' command.\u001b[0m\n"
     ]
    }
   ],
   "source": [
    "!pip install flask-security bcrypt"
   ]
  },
  {
   "cell_type": "markdown",
   "metadata": {},
   "source": [
    "## Ejemplo de una aplicación básica con Flask-Security y el ORM de Flask-SQLAlchemy.\n",
    "\n",
    "Esta es una versión modificada del ejemplo localizado en https://pythonhosted.org/Flask-Security/quickstart.html#sqlalchemy-application. \n",
    "\n",
    "El uso de Flask-Security es aún más extenso, pero para los fines de este curso sólo se explorarán los aspectos más básicos."
   ]
  },
  {
   "cell_type": "markdown",
   "metadata": {},
   "source": [
    "### Importación de los módulos y paquetes.\n",
    "\n",
    "* La extensión cuenta con objetos capaces de conectarse al ORM de SQLAlchemy y crear tablas especializadas para gestión de usuarios y roles en la base de datos.\n",
    "* El uso de *mixins* facilita la creación de clases que contengan métodos compatibles con la extensión."
   ]
  },
  {
   "cell_type": "code",
   "execution_count": 3,
   "metadata": {},
   "outputs": [],
   "source": [
    "from flask import Flask\n",
    "from flask_sqlalchemy import SQLAlchemy\n",
    "from flask_security import Security, SQLAlchemyUserDatastore, \\\n",
    "    UserMixin, RoleMixin, login_required"
   ]
  },
  {
   "cell_type": "markdown",
   "metadata": {},
   "source": [
    "### Creación y configuración de la aplicación de Flask.\n",
    "\n",
    "Para poder utilizar Flask-Security es necesario incluir algunos parámetros de configuración de Flask-SQLAlchemy así como:\n",
    "* *'SECRET_KEY'*, el cual es utilizado por Flask-WTF para saegurar las formas.\n",
    "* *'SECURITY_PASSWORD_SALT'* el cual sirve para cifrar las contraseñas."
   ]
  },
  {
   "cell_type": "code",
   "execution_count": 4,
   "metadata": {},
   "outputs": [],
   "source": [
    "app = Flask(__name__)\n",
    "app.config['SECRET_KEY'] = 'secretísimo'\n",
    "app.config['SQLALCHEMY_DATABASE_URI'] = 'sqlite:///data/usuarios.db'\n",
    "app.config['SQLALCHEMY_TRACK_MODIFICATIONS'] = False\n",
    "app.config['SECURITY_PASSWORD_SALT'] = 'ultra-secreto'\n",
    "db = SQLAlchemy(app)"
   ]
  },
  {
   "cell_type": "markdown",
   "metadata": {},
   "source": [
    "### Definición de las tablas de usuarios y roles.\n",
    "\n",
    "Se crearán varias tablas y clases.\n",
    "\n",
    "\n",
    "**Advertencia:** para evitar conflictos es necesario eliminar el archivo *usuarios.db* localizado en el directorio [*data*](data) en caso de que exista.\n",
    "\n",
    "#### Creación de la tabla de roles con la clase *db.Table*. \n",
    "\n",
    "La clase *db.Table()* permite definir un objeto ligado a una tabla en la base de datos, ingresando objetos instanciados de *db.Column* como argumentos para el método *\\_\\_init_\\_()* del objeto instanciado.\n",
    "\n",
    "Cabe hacer notar que la tabla *roles* contiene las columnas *id_usuario* y *id_rol*, las cuales están ligadas a los atributos *usuario.id* y *rol.id* respectivamente.\n",
    "\n",
    "La clase *db.ForeginKey* liga a un campo ligado a la columna de otra tabla."
   ]
  },
  {
   "cell_type": "code",
   "execution_count": 5,
   "metadata": {},
   "outputs": [],
   "source": [
    "roles_usuarios = db.Table('roles',\n",
    "        db.Column('id_usuario', db.Integer(), db.ForeignKey('usuario.id')),\n",
    "        db.Column('id_rol', db.Integer(), db.ForeignKey('rol.id')))"
   ]
  },
  {
   "cell_type": "markdown",
   "metadata": {},
   "source": [
    "#### Creación de las tablas *rol* y *usuario* ligadas a las clases *Rol* y *Usuario* respectivamente. \n",
    "\n",
    "Los mixins *RoleMixin* y *UserMixin* ya contienen atributos y métodos capaces de crear tablas sin necesidad de definirals explícitamente y ligar los objetos instaciados a dichas tablas. Por ellos se crearán las tablas *rol* y *usuario* sin necesidad de especificarlo.\n",
    "\n",
    "El atributo *Usuario.roles* utiliza la función *db.relationship(*) para definir una relacion ente a la clase *Usuario* y la clase *Rol* que se refleja en el objeto roles usuarios.\n",
    "\n",
    "Es decir, un usuario puede tener múltiples roles y esta relación entre es guardada en la tabla *roles*, ligada al objeto *roles_usuarios*."
   ]
  },
  {
   "cell_type": "code",
   "execution_count": null,
   "metadata": {},
   "outputs": [],
   "source": [
    "help(db.relationship)"
   ]
  },
  {
   "cell_type": "code",
   "execution_count": 6,
   "metadata": {},
   "outputs": [],
   "source": [
    "class Rol(db.Model, RoleMixin):\n",
    "    id = db.Column(db.Integer(), primary_key=True)\n",
    "    name = db.Column(db.String(80), unique=True)\n",
    "    description = db.Column(db.String(255))\n",
    "\n",
    "class Usuario(db.Model, UserMixin):\n",
    "    id = db.Column(db.Integer, primary_key=True)\n",
    "    email = db.Column(db.String(255), unique=True)\n",
    "    password = db.Column(db.String(255))\n",
    "    active = db.Column(db.Boolean())\n",
    "    roles = db.relationship('Rol', secondary=roles_usuarios,\n",
    "                            backref=db.backref('usuarios', lazy='dynamic'))"
   ]
  },
  {
   "cell_type": "markdown",
   "metadata": {},
   "source": [
    "### Creación de las tablas en la base de datos.\n",
    "\n",
    "Se crean las tablas en la base de datos."
   ]
  },
  {
   "cell_type": "code",
   "execution_count": 7,
   "metadata": {},
   "outputs": [],
   "source": [
    "db.create_all()"
   ]
  },
  {
   "cell_type": "markdown",
   "metadata": {},
   "source": [
    "Se puede comprobar el contenido de la base de datos de la siguiente manera:"
   ]
  },
  {
   "cell_type": "code",
   "execution_count": 8,
   "metadata": {},
   "outputs": [],
   "source": [
    "%load_ext sql"
   ]
  },
  {
   "cell_type": "code",
   "execution_count": 9,
   "metadata": {},
   "outputs": [
    {
     "data": {
      "text/plain": [
       "'Connected: @data/usuarios.db'"
      ]
     },
     "execution_count": 9,
     "metadata": {},
     "output_type": "execute_result"
    }
   ],
   "source": [
    "%sql sqlite:///data/usuarios.db"
   ]
  },
  {
   "cell_type": "code",
   "execution_count": 10,
   "metadata": {
    "scrolled": true
   },
   "outputs": [
    {
     "name": "stdout",
     "output_type": "stream",
     "text": [
      " * sqlite:///data/usuarios.db\n",
      "Done.\n"
     ]
    },
    {
     "data": {
      "text/html": [
       "<table>\n",
       "    <tr>\n",
       "        <th>tbl_name</th>\n",
       "    </tr>\n",
       "    <tr>\n",
       "        <td>rol</td>\n",
       "    </tr>\n",
       "    <tr>\n",
       "        <td>usuario</td>\n",
       "    </tr>\n",
       "    <tr>\n",
       "        <td>roles</td>\n",
       "    </tr>\n",
       "</table>"
      ],
      "text/plain": [
       "[('rol',), ('usuario',), ('roles',)]"
      ]
     },
     "execution_count": 10,
     "metadata": {},
     "output_type": "execute_result"
    }
   ],
   "source": [
    "%sql select tbl_name from sqlite_master where type = 'table';"
   ]
  },
  {
   "cell_type": "markdown",
   "metadata": {},
   "source": [
    "### Creación del objeto que gestiona las operaciones de usuarios y roles.\n",
    "\n",
    "La extensión Flask Security permite crear un objeto capaz de utilizar las tablas recién creadas para las operaciones de gestión de usuarios y roles mediante la clase *flask_security.SQLAlchemyUserDatastore*."
   ]
  },
  {
   "cell_type": "code",
   "execution_count": 11,
   "metadata": {},
   "outputs": [],
   "source": [
    "datastore_usuario = SQLAlchemyUserDatastore(db, Usuario, Rol)"
   ]
  },
  {
   "cell_type": "markdown",
   "metadata": {},
   "source": [
    "### Implementación de las operaciones de control de acceso  de la aplicación.\n",
    "\n",
    "La clase *Security* permite crear un objeto el cual realiza las operaciones de control de acceso de la aplicación."
   ]
  },
  {
   "cell_type": "code",
   "execution_count": 12,
   "metadata": {},
   "outputs": [],
   "source": [
    "seguridad = Security(app, datastore_usuario)"
   ]
  },
  {
   "cell_type": "markdown",
   "metadata": {},
   "source": [
    "### Creación de un usario nuevo."
   ]
  },
  {
   "cell_type": "code",
   "execution_count": 14,
   "metadata": {},
   "outputs": [],
   "source": [
    "datastore_usuario.create_user(email='contacto@pythonista.io', password='Jupyter')\n",
    "db.session.commit()"
   ]
  },
  {
   "cell_type": "code",
   "execution_count": 18,
   "metadata": {},
   "outputs": [
    {
     "name": "stdout",
     "output_type": "stream",
     "text": [
      " * sqlite:///data/usuarios.db\n",
      "Done.\n"
     ]
    },
    {
     "data": {
      "text/html": [
       "<table>\n",
       "    <tr>\n",
       "        <th>id</th>\n",
       "        <th>email</th>\n",
       "        <th>password</th>\n",
       "        <th>active</th>\n",
       "    </tr>\n",
       "    <tr>\n",
       "        <td>1</td>\n",
       "        <td>contacto@pythonista.io</td>\n",
       "        <td>Jupyter</td>\n",
       "        <td>1</td>\n",
       "    </tr>\n",
       "</table>"
      ],
      "text/plain": [
       "[(1, 'contacto@pythonista.io', 'Jupyter', 1)]"
      ]
     },
     "execution_count": 18,
     "metadata": {},
     "output_type": "execute_result"
    }
   ],
   "source": [
    "%sql select * from usuario"
   ]
  },
  {
   "cell_type": "markdown",
   "metadata": {},
   "source": [
    "### Función de vista que requiere control de acceso mediante usuario y contraseña.\n",
    "\n",
    "La función *flask_security.login_required()* aplicada como un decorador sobre la función *home()* indica que es necesario registrarse para pdoer acceder."
   ]
  },
  {
   "cell_type": "code",
   "execution_count": 19,
   "metadata": {},
   "outputs": [],
   "source": [
    "@app.route('/')\n",
    "@login_required\n",
    "def home():\n",
    "    return 'Hola'"
   ]
  },
  {
   "cell_type": "markdown",
   "metadata": {},
   "source": [
    "### Ejecución de la aplicación.\n",
    "\n",
    "Se ejecutará un servidor en http://localhost:5000 que pedirá un usuario y contraseña válidos para poder acceder.\n",
    "\n",
    "**Advertencia:** Una vez ejecutada la siguente celda es necesario interrumpir el kernel de Jupyter para poder ejecutar el resto de las celdas de la notebook."
   ]
  },
  {
   "cell_type": "code",
   "execution_count": null,
   "metadata": {},
   "outputs": [
    {
     "name": "stderr",
     "output_type": "stream",
     "text": [
      " * Running on http://0.0.0.0:5000/ (Press CTRL+C to quit)\n",
      "10.0.2.2 - - [03/May/2018 16:42:19] code 400, message Bad HTTP/0.9 request type ('\\x16\\x03\\x01\\x00µ\\x01\\x00\\x00±\\x03\\x03Ïd\\x86\\x84Ì¢\\x9d\\x14\\x7fæ.Fn\\x9b\\x03\\x82V±ü\\x93\\x12É¤0Ò\\x8f¤\\x02Øý\\x99¯\\x00\\x00')\n",
      "10.0.2.2 - - [03/May/2018 16:42:20] \"\u0016\u0003\u0001\u0000µ\u0001\u0000\u0000±\u0003\u0003ÏdÌ¢\u0014æ.Fn\u0003V±ü\u0012É¤0Ò¤\u0002Øý¯\u0000\u0000\u001e",
      "À+À/Ì©Ì¨À,À0À\" HTTPStatus.BAD_REQUEST -\n",
      "10.0.2.2 - - [03/May/2018 16:42:30] code 400, message Bad request syntax (\"\\x16\\x03\\x01\\x00µ\\x01\\x00\\x00±\\x03\\x03\\x17\\x83X'azsÆ±5\\x16W¼ÁG)ë:\\x1c5\\x0f\\x8cÈË[è\\x0c\\x8enÌQ\\xad\\x00\\x00\\x1eÀ+À/Ì©Ì¨À,À0À\")\n",
      "10.0.2.2 - - [03/May/2018 16:42:30] \"\u0016\u0003\u0001\u0000µ\u0001\u0000\u0000±\u0003\u0003\u0017X'azsÆ±5\u0016W¼ÁG)ë:\u001c",
      "5\u000fÈË[è\f",
      "nÌQ­\u0000\u0000\u001e",
      "À+À/Ì©Ì¨À,À0À\" HTTPStatus.BAD_REQUEST -\n",
      "10.0.2.2 - - [03/May/2018 16:42:30] code 400, message Bad request syntax ('\\x16\\x03\\x01\\x00µ\\x01\\x00\\x00±\\x03\\x03à\\x861ºâ\\x0b\\x94Û{=&b\\x1c\\x92SÚQp_§Äx7\\x81$$\\x8aã\\x14þÒo\\x00\\x00\\x1eÀ+À/Ì©Ì¨À,À0À')\n",
      "10.0.2.2 - - [03/May/2018 16:42:31] \"\u0016\u0003\u0001\u0000µ\u0001\u0000\u0000±\u0003\u0003à1ºâ\u000b",
      "Û{=&b\u001c",
      "SÚQp_§Äx7$$ã\u0014þÒo\u0000\u0000\u001e",
      "À+À/Ì©Ì¨À,À0À\" HTTPStatus.BAD_REQUEST -\n",
      "10.0.2.2 - - [03/May/2018 16:42:31] code 400, message Bad request version ('À+À/Ì©Ì¨À,À0À')\n",
      "10.0.2.2 - - [03/May/2018 16:42:31] \"\u0016\u0003\u0001\u0000µ\u0001\u0000\u0000±\u0003\u0003Ó`#ú1ù\u0016\u0013º¡·Xý¬tv#\u0007±õsK%ò²x \u0000\u0000\u001e",
      "À+À/Ì©Ì¨À,À0À\" HTTPStatus.BAD_REQUEST -\n",
      "10.0.2.2 - - [03/May/2018 16:42:31] code 400, message Bad request syntax ('\\x16\\x03\\x01\\x00µ\\x01\\x00\\x00±\\x03\\x03]\\xa0¶à\\x1f\\x9aV\\x94ùÏ¶Î\\x06¼)û\\x8aRÁtIÄ¦\\x84`]\"ÑgáÅÝ\\x00\\x00\\x1eÀ+À/Ì©Ì¨À,À0À')\n",
      "10.0.2.2 - - [03/May/2018 16:42:31] \"\u0016\u0003\u0001\u0000µ\u0001\u0000\u0000±\u0003\u0003] ¶à\u001fVùÏ¶Î\u0006¼)ûRÁtIÄ¦`]\"ÑgáÅÝ\u0000\u0000\u001e",
      "À+À/Ì©Ì¨À,À0À\" HTTPStatus.BAD_REQUEST -\n",
      "10.0.2.2 - - [03/May/2018 16:42:39] \"GET / HTTP/1.1\" 302 -\n",
      "10.0.2.2 - - [03/May/2018 16:42:39] \"GET /login?next=%2F HTTP/1.1\" 200 -\n",
      "10.0.2.2 - - [03/May/2018 16:42:39] \"GET /favicon.ico HTTP/1.1\" 404 -\n",
      "10.0.2.2 - - [03/May/2018 16:42:39] \"GET /favicon.ico HTTP/1.1\" 404 -\n",
      "10.0.2.2 - - [03/May/2018 16:42:41] code 400, message Bad HTTP/0.9 request type ('\\x16\\x03\\x01\\x00µ\\x01\\x00\\x00±\\x03\\x03÷\\x899\\x1a<áÞ®éÙÇ@Ûò¢7äJûéI\\x92r\\x82\\x10nîõËJtÀ\\x00\\x00')\n",
      "10.0.2.2 - - [03/May/2018 16:42:41] \"\u0016\u0003\u0001\u0000µ\u0001\u0000\u0000±\u0003\u0003÷9\u001a<áÞ®éÙÇ@Ûò¢7äJûéIr\u0010nîõËJtÀ\u0000\u0000\u001e",
      "À+À/Ì©Ì¨À,À0À\" HTTPStatus.BAD_REQUEST -\n",
      "10.0.2.2 - - [03/May/2018 16:43:09] \"POST /login HTTP/1.1\" 302 -\n",
      "10.0.2.2 - - [03/May/2018 16:43:09] \"GET / HTTP/1.1\" 200 -\n",
      "10.0.2.2 - - [03/May/2018 16:44:43] \"GET / HTTP/1.1\" 200 -\n"
     ]
    }
   ],
   "source": [
    "#Si no se define el parámetro host, flask sólo será visible desde localhost\n",
    "# app.run(host='localhost')\n",
    "app.run('0.0.0.0')"
   ]
  },
  {
   "cell_type": "markdown",
   "metadata": {},
   "source": [
    "<p style=\"text-align: center\"><a rel=\"license\" href=\"http://creativecommons.org/licenses/by/4.0/\"><img alt=\"Licencia Creative Commons\" style=\"border-width:0\" src=\"https://i.creativecommons.org/l/by/4.0/80x15.png\" /></a><br />Esta obra está bajo una <a rel=\"license\" href=\"http://creativecommons.org/licenses/by/4.0/\">Licencia Creative Commons Atribución 4.0 Internacional</a>.</p>\n",
    "<p style=\"text-align: center\">&copy; José Luis Chiquete Valdivieso. 2018.</p>"
   ]
  }
 ],
 "metadata": {
  "kernelspec": {
   "display_name": "Python 3",
   "language": "python",
   "name": "python3"
  },
  "language_info": {
   "codemirror_mode": {
    "name": "ipython",
    "version": 3
   },
   "file_extension": ".py",
   "mimetype": "text/x-python",
   "name": "python",
   "nbconvert_exporter": "python",
   "pygments_lexer": "ipython3",
   "version": "3.6.4"
  }
 },
 "nbformat": 4,
 "nbformat_minor": 2
}
