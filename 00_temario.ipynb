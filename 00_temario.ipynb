{
 "cells": [
  {
   "cell_type": "markdown",
   "metadata": {},
   "source": [
    "[![imagenes/pythonista.png](imagenes/pythonista.png)](https://pythonista.io)"
   ]
  },
  {
   "cell_type": "markdown",
   "metadata": {},
   "source": [
    "# (py201) Introducción a la programación web con Flask.\n",
    "\n",
    "## Temario \n",
    "\n",
    "1. Introducción a HTTP.\n",
    "* El 'Hola, Mundo' de Flask.\n",
    "* Flask a detalle.\n",
    "* Introducción a Jinja2.\n",
    "* Archivos JSON.\n",
    "* Ejemplo de uso de JSON y Jinja2 con Flask.\n",
    "* Gestion de formas.\n",
    "* Algunas funcionalidades útiles de Flask.\n",
    "* Funciones para gestión de errores.\n",
    "* Desarrollo de una aplicación web simple.\n",
    "* Gestión de estilos con la extensión Flask-Bootstrap.\n",
    "* Desarrollo de un servidor de una API basada REST.\n",
    "* Cliente de la API basada en REST.\n",
    "* ORM con la extensión Flask-SQLAlchemy.\n",
    "* Ejemplo de la API REST con Flask-SQLAlchemy.\n",
    "* Interacción con el shell de Flask.\n",
    "* Control de acceso."
   ]
  },
  {
   "cell_type": "markdown",
   "metadata": {},
   "source": [
    "<p style=\"text-align: center\"><a rel=\"license\" href=\"http://creativecommons.org/licenses/by/4.0/\"><img alt=\"Licencia Creative Commons\" style=\"border-width:0\" src=\"https://i.creativecommons.org/l/by/4.0/80x15.png\" /></a><br />Esta obra está bajo una <a rel=\"license\" href=\"http://creativecommons.org/licenses/by/4.0/\">Licencia Creative Commons Atribución 4.0 Internacional</a>.</p>\n",
    "<p style=\"text-align: center\">&copy; José Luis Chiquete Valdivieso. 2018.</p>"
   ]
  }
 ],
 "metadata": {
  "kernelspec": {
   "display_name": "Python 3",
   "language": "python",
   "name": "python3"
  },
  "language_info": {
   "codemirror_mode": {
    "name": "ipython",
    "version": 3
   },
   "file_extension": ".py",
   "mimetype": "text/x-python",
   "name": "python",
   "nbconvert_exporter": "python",
   "pygments_lexer": "ipython3",
   "version": "3.6.5"
  }
 },
 "nbformat": 4,
 "nbformat_minor": 2
}
